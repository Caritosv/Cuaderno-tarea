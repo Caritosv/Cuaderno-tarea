{
  "nbformat": 4,
  "nbformat_minor": 0,
  "metadata": {
    "colab": {
      "provenance": [],
      "authorship_tag": "ABX9TyMqAZpugphDRF+zg9LbeP/f",
      "include_colab_link": true
    },
    "kernelspec": {
      "name": "python3",
      "display_name": "Python 3"
    },
    "language_info": {
      "name": "python"
    }
  },
  "cells": [
    {
      "cell_type": "markdown",
      "metadata": {
        "id": "view-in-github",
        "colab_type": "text"
      },
      "source": [
        "<a href=\"https://colab.research.google.com/github/Caritosv/Cuaderno-tarea/blob/main/Untitled12.ipynb\" target=\"_parent\"><img src=\"https://colab.research.google.com/assets/colab-badge.svg\" alt=\"Open In Colab\"/></a>"
      ]
    },
    {
      "cell_type": "markdown",
      "source": [
        "# Data Science Tools and Ecosystem"
      ],
      "metadata": {
        "id": "J7AVoaqtFXXB"
      }
    },
    {
      "cell_type": "markdown",
      "source": [
        "Data Science Tools and Ecosystem\n"
      ],
      "metadata": {
        "id": "n99PLjpMFnQd"
      }
    },
    {
      "cell_type": "markdown",
      "source": [
        "Some of the popular languages that Data Scientists use are:\n",
        "\n",
        "1.   Python\n",
        "2.   R\n",
        "3.   SQL\n",
        "4.   Java\n",
        "5.   Scala"
      ],
      "metadata": {
        "id": "xIiwCMUZF_cO"
      }
    },
    {
      "cell_type": "markdown",
      "source": [
        "**Objectives:**\n",
        "\n",
        "*   Libraries used by data scientists\n",
        "*   Popular Languages that data scientists\n",
        "*   Data Science Tools\n",
        "*   examples of evaluating arithmetic expressions in Python"
      ],
      "metadata": {
        "id": "2q9O91HUGPVx"
      }
    },
    {
      "cell_type": "markdown",
      "source": [
        "Some of the commonly used libraries used by Data Scientists include:\n",
        "\n",
        "1.   Pandas\n",
        "2.   Numpy\n",
        "3.   Seaborn\n",
        "4.   Matplotlib"
      ],
      "metadata": {
        "id": "RlMTbz0hGok5"
      }
    },
    {
      "cell_type": "markdown",
      "source": [
        "| Data Science Tools |\n",
        "|--------------------|\n",
        "| MySQL              |\n",
        "| Jupyter Notebook   |\n",
        "| MongoDB            |"
      ],
      "metadata": {
        "id": "E8Xs8YhkIsWy"
      }
    },
    {
      "cell_type": "markdown",
      "source": [
        "# Below are a few examples of evaluating arithmetic expressions in Python"
      ],
      "metadata": {
        "id": "ESWURk1bJPam"
      }
    },
    {
      "cell_type": "markdown",
      "source": [
        "his a simple arithmetic expression to mutiply then add integers"
      ],
      "metadata": {
        "id": "gH_fM2wlJT6I"
      }
    },
    {
      "cell_type": "code",
      "source": [
        "(3*4)+5"
      ],
      "metadata": {
        "colab": {
          "base_uri": "https://localhost:8080/"
        },
        "id": "zGHBOes2JanX",
        "outputId": "75dbc2bf-c22b-4f8d-df57-58006aa6d38b"
      },
      "execution_count": 2,
      "outputs": [
        {
          "output_type": "execute_result",
          "data": {
            "text/plain": [
              "17"
            ]
          },
          "metadata": {},
          "execution_count": 2
        }
      ]
    },
    {
      "cell_type": "markdown",
      "source": [
        "This will convert 200 minutes to hours by diving by 60"
      ],
      "metadata": {
        "id": "Y3C4TqdkJgiP"
      }
    },
    {
      "cell_type": "code",
      "source": [
        "200/60\n"
      ],
      "metadata": {
        "colab": {
          "base_uri": "https://localhost:8080/"
        },
        "id": "wal8eONiJhZd",
        "outputId": "56134c4a-2e83-49ff-d201-b9000296331e"
      },
      "execution_count": 3,
      "outputs": [
        {
          "output_type": "execute_result",
          "data": {
            "text/plain": [
              "3.3333333333333335"
            ]
          },
          "metadata": {},
          "execution_count": 3
        }
      ]
    },
    {
      "cell_type": "markdown",
      "source": [
        "## Author\n",
        "Carolina Silva"
      ],
      "metadata": {
        "id": "BbOaz78MJmjS"
      }
    }
  ]
}